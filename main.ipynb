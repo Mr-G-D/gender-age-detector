{
 "cells": [
  {
   "cell_type": "code",
   "execution_count": 349,
   "id": "initial_id",
   "metadata": {
    "collapsed": true,
    "ExecuteTime": {
     "end_time": "2024-05-13T22:26:35.853637100Z",
     "start_time": "2024-05-13T22:26:35.837995900Z"
    }
   },
   "outputs": [],
   "source": [
    "import cv2"
   ]
  },
  {
   "cell_type": "code",
   "execution_count": 350,
   "outputs": [],
   "source": [
    "image = cv2.imread(\"assets/female_1.jpg\")\n",
    "image = cv2.resize(image, (720, 640))\n",
    "\n",
    "MODEL_MEAN_VALUES = [104, 117, 123]"
   ],
   "metadata": {
    "collapsed": false,
    "ExecuteTime": {
     "end_time": "2024-05-13T22:26:35.869329200Z",
     "start_time": "2024-05-13T22:26:35.853637100Z"
    }
   },
   "id": "e436ce0e918d9ca0"
  },
  {
   "cell_type": "code",
   "execution_count": 351,
   "outputs": [],
   "source": [
    "facepb_text = \"models/opencv_face_detector.pbtxt\"\n",
    "facepb = \"models/opencv_face_detector_uint8.pb\"\n",
    "\n",
    "age_prototxt = \"models/age_deploy.prototxt\"\n",
    "age_model = \"models/age_net.caffemodel\"\n",
    "\n",
    "gender_prototxt = \"models/gender_deploy.prototxt\"\n",
    "gender_model = \"models/gender_net.caffemodel\""
   ],
   "metadata": {
    "collapsed": false,
    "ExecuteTime": {
     "end_time": "2024-05-13T22:26:35.884920400Z",
     "start_time": "2024-05-13T22:26:35.869329200Z"
    }
   },
   "id": "87e56acbe6233926"
  },
  {
   "cell_type": "code",
   "execution_count": 352,
   "outputs": [],
   "source": [
    "# Load Models\n",
    "\n",
    "face = cv2.dnn.readNet(facepb, facepb_text)\n",
    "age = cv2.dnn.readNet(age_model, age_prototxt)\n",
    "gender = cv2.dnn.readNet(gender_model, gender_prototxt)"
   ],
   "metadata": {
    "collapsed": false,
    "ExecuteTime": {
     "end_time": "2024-05-13T22:26:36.072394700Z",
     "start_time": "2024-05-13T22:26:35.884920400Z"
    }
   },
   "id": "fd93f1b5edc55611"
  },
  {
   "cell_type": "code",
   "execution_count": 353,
   "outputs": [],
   "source": [
    "age_class = [\"0-2\", \"4-6\", \"8-12\", \"15-20\", \"25-32\", \"38-43\", \"48-53\", \"60-100\"]\n",
    "gender_class = [\"male\", \"female\"]"
   ],
   "metadata": {
    "collapsed": false,
    "ExecuteTime": {
     "end_time": "2024-05-13T22:26:36.088077600Z",
     "start_time": "2024-05-13T22:26:36.072394700Z"
    }
   },
   "id": "19e39d3dffe36f29"
  },
  {
   "cell_type": "code",
   "execution_count": 354,
   "outputs": [],
   "source": [
    "#copy image \n",
    "img_cp = image.copy()"
   ],
   "metadata": {
    "collapsed": false,
    "ExecuteTime": {
     "end_time": "2024-05-13T22:26:36.103697Z",
     "start_time": "2024-05-13T22:26:36.088077600Z"
    }
   },
   "id": "e1af68d0e6b72232"
  },
  {
   "cell_type": "code",
   "execution_count": 355,
   "outputs": [],
   "source": [
    "\n",
    "img_h = img_cp.shape[0]\n",
    "img_w = img_cp.shape[1]\n",
    "\n",
    "blob = cv2.dnn.blobFromImage(img_cp, 1.0, (300, 300), MODEL_MEAN_VALUES, True, False)"
   ],
   "metadata": {
    "collapsed": false,
    "ExecuteTime": {
     "end_time": "2024-05-13T22:26:36.119321300Z",
     "start_time": "2024-05-13T22:26:36.103697Z"
    }
   },
   "id": "7d6c3342b28faaac"
  },
  {
   "cell_type": "code",
   "execution_count": 356,
   "outputs": [],
   "source": [
    "face.setInput(blob)\n",
    "\n",
    "_detected = face.forward()"
   ],
   "metadata": {
    "collapsed": false,
    "ExecuteTime": {
     "end_time": "2024-05-13T22:26:36.166537500Z",
     "start_time": "2024-05-13T22:26:36.119321300Z"
    }
   },
   "id": "f0c37af13c48d5db"
  },
  {
   "cell_type": "code",
   "execution_count": 357,
   "outputs": [],
   "source": [
    "#Draw Rectangle on faces\n",
    "face_bounds = []\n",
    "for i in range(_detected.shape[2]):\n",
    "    confidence = _detected[0, 0, i, 2]\n",
    "    if confidence >= 0.9:\n",
    "        x1 = int(_detected[0, 0, i, 3] * img_w)\n",
    "        y1 = int(_detected[0, 0, i, 4] * img_h) \n",
    "        x2 = int(_detected[0, 0, i, 5] * img_w)\n",
    "        y2 = int(_detected[0, 0, i, 6] * img_h)\n",
    "        cv2.rectangle(img_cp, (x1, y1), (x2, y2), (0, 255, 0), int(round(img_h/150)), 8)\n",
    "        face_bounds.append([x1, y1, x2, y2])"
   ],
   "metadata": {
    "collapsed": false,
    "ExecuteTime": {
     "end_time": "2024-05-13T22:26:36.181821700Z",
     "start_time": "2024-05-13T22:26:36.166537500Z"
    }
   },
   "id": "2ea81898a8253681"
  },
  {
   "cell_type": "code",
   "execution_count": 358,
   "outputs": [
    {
     "name": "stdout",
     "output_type": "stream",
     "text": [
      "female 25-32\n"
     ]
    }
   ],
   "source": [
    "for face_bound in face_bounds:\n",
    "    try:\n",
    "        face_temp = img_cp[max(0, face_bound[1]-15):\n",
    "                      min(face_bound[3] + 15, img_cp.shape[0]-1), \n",
    "               max(0, face_bound[0]-15):\n",
    "               min(face_bound[2] + 15, img_cp.shape[0]-1)]\n",
    "        blob = cv2.dnn.blobFromImage(face_temp, 1.0, (227, 227), MODEL_MEAN_VALUES, True)\n",
    "        \n",
    "        #Gender\n",
    "        gender.setInput(blob)\n",
    "        _detected_gender = gender.forward()\n",
    "        gen = gender_class[_detected_gender[0].argmax()]\n",
    "        \n",
    "        #age\n",
    "        age.setInput(blob)\n",
    "        _detected_age = age.forward()\n",
    "        age_f = age_class[_detected_age[0].argmax()]\n",
    "        \n",
    "        print(gen, age_f)\n",
    "        \n",
    "    except Exception as e:\n",
    "        print(e)"
   ],
   "metadata": {
    "collapsed": false,
    "ExecuteTime": {
     "end_time": "2024-05-13T22:26:36.244296700Z",
     "start_time": "2024-05-13T22:26:36.181821700Z"
    }
   },
   "id": "10086936712a46e7"
  },
  {
   "cell_type": "code",
   "execution_count": 359,
   "outputs": [],
   "source": [
    "cv2.imshow(\"result\", img_cp)\n",
    "cv2.waitKey(0)\n",
    "cv2.destroyAllWindows()"
   ],
   "metadata": {
    "collapsed": false,
    "ExecuteTime": {
     "end_time": "2024-05-13T22:26:38.253623600Z",
     "start_time": "2024-05-13T22:26:36.244296700Z"
    }
   },
   "id": "38d8faf85ed8e57e"
  }
 ],
 "metadata": {
  "kernelspec": {
   "display_name": "Python 3",
   "language": "python",
   "name": "python3"
  },
  "language_info": {
   "codemirror_mode": {
    "name": "ipython",
    "version": 2
   },
   "file_extension": ".py",
   "mimetype": "text/x-python",
   "name": "python",
   "nbconvert_exporter": "python",
   "pygments_lexer": "ipython2",
   "version": "2.7.6"
  }
 },
 "nbformat": 4,
 "nbformat_minor": 5
}
