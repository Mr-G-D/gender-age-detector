{
 "cells": [
  {
   "cell_type": "code",
   "execution_count": 314,
   "id": "initial_id",
   "metadata": {
    "collapsed": true,
    "ExecuteTime": {
     "end_time": "2024-05-13T22:19:54.892977400Z",
     "start_time": "2024-05-13T22:19:54.761908800Z"
    }
   },
   "outputs": [],
   "source": [
    "import cv2"
   ]
  },
  {
   "cell_type": "code",
   "execution_count": 315,
   "outputs": [],
   "source": [
    "image = cv2.imread(\"assets/random.png\")\n",
    "image = cv2.resize(image, (720, 640))\n",
    "\n",
    "MODEL_MEAN_VALUES = [104, 117, 123]"
   ],
   "metadata": {
    "collapsed": false,
    "ExecuteTime": {
     "end_time": "2024-05-13T22:19:54.893979400Z",
     "start_time": "2024-05-13T22:19:54.781504500Z"
    }
   },
   "id": "e436ce0e918d9ca0"
  },
  {
   "cell_type": "code",
   "execution_count": 316,
   "outputs": [],
   "source": [
    "facepb_text = \"models/opencv_face_detector.pbtxt\"\n",
    "facepb = \"models/opencv_face_detector_uint8.pb\"\n",
    "\n",
    "age_prototxt = \"models/age_deploy.prototxt\"\n",
    "age_model = \"models/age_net.caffemodel\"\n",
    "\n",
    "gender_prototxt = \"models/gender_deploy.prototxt\"\n",
    "gender_model = \"models/gender_net.caffemodel\""
   ],
   "metadata": {
    "collapsed": false,
    "ExecuteTime": {
     "end_time": "2024-05-13T22:19:54.893979400Z",
     "start_time": "2024-05-13T22:19:54.871979300Z"
    }
   },
   "id": "87e56acbe6233926"
  },
  {
   "cell_type": "code",
   "execution_count": 317,
   "outputs": [],
   "source": [
    "# Load Models\n",
    "\n",
    "face = cv2.dnn.readNet(facepb, facepb_text)\n",
    "age = cv2.dnn.readNet(age_model, age_prototxt)\n",
    "gender = cv2.dnn.readNet(gender_model, gender_prototxt)"
   ],
   "metadata": {
    "collapsed": false,
    "ExecuteTime": {
     "end_time": "2024-05-13T22:19:55.060280400Z",
     "start_time": "2024-05-13T22:19:54.887997Z"
    }
   },
   "id": "fd93f1b5edc55611"
  },
  {
   "cell_type": "code",
   "execution_count": 318,
   "outputs": [],
   "source": [
    "age_class = [\"0-2\", \"4-6\", \"8-12\", \"15-20\", \"25-32\", \"38-43\", \"48-53\", \"60-100\"]\n",
    "gender_class = [\"male\", \"female\"]"
   ],
   "metadata": {
    "collapsed": false,
    "ExecuteTime": {
     "end_time": "2024-05-13T22:19:55.075645900Z",
     "start_time": "2024-05-13T22:19:55.063274700Z"
    }
   },
   "id": "19e39d3dffe36f29"
  },
  {
   "cell_type": "code",
   "execution_count": 319,
   "outputs": [],
   "source": [
    "#copy image \n",
    "img_cp = image.copy()"
   ],
   "metadata": {
    "collapsed": false,
    "ExecuteTime": {
     "end_time": "2024-05-13T22:19:55.100793100Z",
     "start_time": "2024-05-13T22:19:55.077617800Z"
    }
   },
   "id": "e1af68d0e6b72232"
  },
  {
   "cell_type": "code",
   "execution_count": 320,
   "outputs": [],
   "source": [
    "\n",
    "img_h = img_cp.shape[0]\n",
    "img_w = img_cp.shape[1]\n",
    "\n",
    "blob = cv2.dnn.blobFromImage(img_cp, 1.0, (300, 300), MODEL_MEAN_VALUES, True, False)"
   ],
   "metadata": {
    "collapsed": false,
    "ExecuteTime": {
     "end_time": "2024-05-13T22:19:55.109378500Z",
     "start_time": "2024-05-13T22:19:55.093795300Z"
    }
   },
   "id": "7d6c3342b28faaac"
  },
  {
   "cell_type": "code",
   "execution_count": 321,
   "outputs": [],
   "source": [
    "face.setInput(blob)\n",
    "\n",
    "_detected = face.forward()"
   ],
   "metadata": {
    "collapsed": false,
    "ExecuteTime": {
     "end_time": "2024-05-13T22:19:55.152524100Z",
     "start_time": "2024-05-13T22:19:55.110381400Z"
    }
   },
   "id": "f0c37af13c48d5db"
  },
  {
   "cell_type": "code",
   "execution_count": 322,
   "outputs": [],
   "source": [
    "#Draw Rectangle on faces\n",
    "face_bounds = []\n",
    "for i in range(_detected.shape[2]):\n",
    "    confidence = _detected[0, 0, i, 2]\n",
    "    if confidence >= 0.9:\n",
    "        x1 = int(_detected[0, 0, i, 3] * img_w)\n",
    "        y1 = int(_detected[0, 0, i, 4] * img_h) \n",
    "        x2 = int(_detected[0, 0, i, 5] * img_w)\n",
    "        y2 = int(_detected[0, 0, i, 6] * img_h)\n",
    "        cv2.rectangle(img_cp, (x1, y1), (x2, y2), (0, 255, 0), int(round(img_h/150)), 8)\n",
    "        face_bounds.append([x1, y1, x2, y2])"
   ],
   "metadata": {
    "collapsed": false,
    "ExecuteTime": {
     "end_time": "2024-05-13T22:19:55.170688500Z",
     "start_time": "2024-05-13T22:19:55.155554200Z"
    }
   },
   "id": "2ea81898a8253681"
  },
  {
   "cell_type": "code",
   "execution_count": 323,
   "outputs": [
    {
     "name": "stdout",
     "output_type": "stream",
     "text": [
      "38-43\n"
     ]
    }
   ],
   "source": [
    "for face_bound in face_bounds:\n",
    "    try:\n",
    "        face_temp = img_cp[max(0, face_bound[1]-15):\n",
    "                      min(face_bound[3] + 15, img_cp.shape[0]-1), \n",
    "               max(0, face_bound[0]-15):\n",
    "               min(face_bound[2] + 15, img_cp.shape[0]-1)]\n",
    "        blob = cv2.dnn.blobFromImage(face_temp, 1.0, (227, 227), MODEL_MEAN_VALUES, True)\n",
    "        \n",
    "        #Gender\n",
    "        # gender.setInput(blob)\n",
    "        # _detected_gender = gender.forward()\n",
    "        # gen = gender_class[_detected_gender[0].argmax()]\n",
    "        \n",
    "        #age\n",
    "        age.setInput(blob)\n",
    "        _detected_age = age.forward()\n",
    "        age_f = age_class[_detected_age[0].argmax()]\n",
    "        \n",
    "        print(age_f)\n",
    "        \n",
    "    except Exception as e:\n",
    "        print(e)"
   ],
   "metadata": {
    "collapsed": false,
    "ExecuteTime": {
     "end_time": "2024-05-13T22:19:55.215732600Z",
     "start_time": "2024-05-13T22:19:55.170688500Z"
    }
   },
   "id": "10086936712a46e7"
  },
  {
   "cell_type": "code",
   "execution_count": 324,
   "outputs": [],
   "source": [
    "cv2.imshow(\"result\", img_cp)\n",
    "cv2.waitKey(0)\n",
    "cv2.destroyAllWindows()"
   ],
   "metadata": {
    "collapsed": false,
    "ExecuteTime": {
     "end_time": "2024-05-13T22:19:55.261319700Z",
     "start_time": "2024-05-13T22:19:55.218724600Z"
    }
   },
   "id": "38d8faf85ed8e57e"
  }
 ],
 "metadata": {
  "kernelspec": {
   "display_name": "Python 3",
   "language": "python",
   "name": "python3"
  },
  "language_info": {
   "codemirror_mode": {
    "name": "ipython",
    "version": 2
   },
   "file_extension": ".py",
   "mimetype": "text/x-python",
   "name": "python",
   "nbconvert_exporter": "python",
   "pygments_lexer": "ipython2",
   "version": "2.7.6"
  }
 },
 "nbformat": 4,
 "nbformat_minor": 5
}
